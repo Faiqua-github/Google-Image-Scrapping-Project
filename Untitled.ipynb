{
 "cells": [
  {
   "cell_type": "code",
   "execution_count": 1,
   "id": "62405752",
   "metadata": {},
   "outputs": [],
   "source": [
    "import requests\n",
    "from bs4 import BeautifulSoup\n",
    "from urllib.request import urlopen as ureq\n",
    "import logging\n",
    "import os"
   ]
  },
  {
   "cell_type": "markdown",
   "id": "8038e7da",
   "metadata": {},
   "source": [
    "### to save all the  images from the web site we create a directory with mane images"
   ]
  },
  {
   "cell_type": "code",
   "execution_count": 2,
   "id": "d537318d",
   "metadata": {},
   "outputs": [],
   "source": [
    "save_dir=\"image/\"\n",
    "\n",
    "# syntax to make a directory\n",
    "if not os.path.exists(save_dir):\n",
    "    os.makedirs(save_dir)"
   ]
  },
  {
   "cell_type": "markdown",
   "id": "f23a528e",
   "metadata": {},
   "source": [
    "### sometime google blocks the user...to prevent that we do this"
   ]
  },
  {
   "cell_type": "code",
   "execution_count": 3,
   "id": "e196deff",
   "metadata": {},
   "outputs": [],
   "source": [
    "headers={\"User-Agent\":\"ozilla/5.0(Windows NT 10.0;Win64; x64) AppleWebkit/537.36 (KHTML, like Geko) Chrome/58.0.3029.110 Safari/537.56\"}"
   ]
  },
  {
   "cell_type": "code",
   "execution_count": 4,
   "id": "b7c31e61",
   "metadata": {},
   "outputs": [
    {
     "ename": "SyntaxError",
     "evalue": "invalid syntax (<ipython-input-4-f49119b31dfc>, line 1)",
     "output_type": "error",
     "traceback": [
      "\u001b[1;36m  File \u001b[1;32m\"<ipython-input-4-f49119b31dfc>\"\u001b[1;36m, line \u001b[1;32m1\u001b[0m\n\u001b[1;33m    https://www.google.com/search?q=abdul+kalam&sca_esv=594761302&rlz=1C1SQJL_enIN1053IN1053&tbm=isch&sxsrf=AM9HkKmAZA4WtMtJD2mPfKs9AGmscuTURA:1704037884013&source=lnms&sa=X&sqi=2&ved=2ahUKEwi1lIrmg7qDAxVqSGwGHaVWA9gQ_AUoAnoECAEQBA&biw=1366&bih=607&dpr=1\u001b[0m\n\u001b[1;37m          ^\u001b[0m\n\u001b[1;31mSyntaxError\u001b[0m\u001b[1;31m:\u001b[0m invalid syntax\n"
     ]
    }
   ],
   "source": [
    "https://www.google.com/search?q=abdul+kalam&sca_esv=594761302&rlz=1C1SQJL_enIN1053IN1053&tbm=isch&sxsrf=AM9HkKmAZA4WtMtJD2mPfKs9AGmscuTURA:1704037884013&source=lnms&sa=X&sqi=2&ved=2ahUKEwi1lIrmg7qDAxVqSGwGHaVWA9gQ_AUoAnoECAEQBA&biw=1366&bih=607&dpr=1"
   ]
  },
  {
   "cell_type": "markdown",
   "id": "55942820",
   "metadata": {},
   "source": [
    "#### q=abdul+kalam changed to {query} if we do not want to look for abdul kalam"
   ]
  },
  {
   "cell_type": "code",
   "execution_count": 4,
   "id": "8897da8d",
   "metadata": {},
   "outputs": [],
   "source": [
    "query=\"virat kohli\"\n",
    "response=requests.get(f\"https://www.google.com/search?q={query}&sca_esv=594761302&rlz=1C1SQJL_enIN1053IN1053&tbm=isch&sxsrf=AM9HkKmAZA4WtMtJD2mPfKs9AGmscuTURA:1704037884013&source=lnms&sa=X&sqi=2&ved=2ahUKEwi1lIrmg7qDAxVqSGwGHaVWA9gQ_AUoAnoECAEQBA&biw=1366&bih=607&dpr=1\")"
   ]
  },
  {
   "cell_type": "code",
   "execution_count": 5,
   "id": "e348580a",
   "metadata": {},
   "outputs": [
    {
     "name": "stdout",
     "output_type": "stream",
     "text": [
      "<Response [200]>\n"
     ]
    }
   ],
   "source": [
    "print(response)"
   ]
  },
  {
   "cell_type": "markdown",
   "id": "f4053ffc",
   "metadata": {},
   "source": [
    "#### 200 responses available"
   ]
  },
  {
   "cell_type": "markdown",
   "id": "55e61ee3",
   "metadata": {},
   "source": [
    "#### there are 200 pictures and each 200 pics has irts own url.....to extract the url we use beautifulsoup lib"
   ]
  },
  {
   "cell_type": "code",
   "execution_count": 6,
   "id": "5d3cee54",
   "metadata": {},
   "outputs": [],
   "source": [
    "soup=BeautifulSoup(response.content,'html.parser')"
   ]
  },
  {
   "cell_type": "code",
   "execution_count": 7,
   "id": "20d8b004",
   "metadata": {},
   "outputs": [
    {
     "data": {
      "text/plain": [
       "<!DOCTYPE html PUBLIC \"-//WAPFORUM//DTD XHTML Mobile 1.0//EN\" \"http://www.wapforum.org/DTD/xhtml-mobile10.dtd\">\n",
       "<html lang=\"en-IN\" xmlns=\"http://www.w3.org/1999/xhtml\"><head><meta content=\"application/xhtml+xml; charset=utf-8\" http-equiv=\"Content-Type\"/><meta content=\"no-cache\" name=\"Cache-Control\"/><title>virat kohli - Google Search</title><style>a{text-decoration:none;color:inherit}a:hover{text-decoration:underline}a img{border:0}body{font-family:arial,sans-serif;padding:8px;margin:0 auto;max-width:700px;min-width:240px;}.FbhRzb{border-left:thin solid #dadce0;border-right:thin solid #dadce0;border-top:thin solid #dadce0;height:40px;overflow:hidden}.n692Zd{margin-bottom:10px}.cvifge{height:40px;border-spacing:0}.QvGUP{height:40px;padding:0 8px 0 8px;vertical-align:top}.O4cRJf{height:40px;width:100%;padding:0;padding-right:16px}.O1ePr{height:40px;padding:0;vertical-align:top}.kgJEQe{height:36px;width:98px;vertical-align:top;margin-top:4px}.lXLRf{vertical-align:top}.MhzMZd{border:0;vertical-align:middle;font-size:14px;height:40px;padding:0;width:100%;padding-left:16px}.xB0fq{height:40px;border:none;font-size:14px;background-color:#1a73e8;color:#fff;padding:0 16px;margin:0;vertical-align:top;cursor:pointer}.xB0fq:focus{border:1px solid #1a73e8}.M7pB2{border:thin solid #dadce0;margin:0 0 3px 0;font-size:13px;font-weight:500;height:40px}.euZec{width:100%;height:40px;text-align:center;border-spacing:0}table.euZec td{padding:0;width:25%}.QIqI7{display:inline-block;padding-top:4px;font-weight:bold;color:#4285f4}.EY24We{border-bottom:2px solid #4285f4}.CsQyDc{display:inline-block;color:#70757a}.TuS8Ad{font-size:14px}.HddGcc{padding:8px;color:#70757a}.dzp8ae{font-weight:bold;color:#3c4043}.rEM8G{color:#70757a}.bookcf{table-layout:fixed;width:100%;border-spacing:0}.InWNIe{text-align:center}.uZgmoc{border:thin solid #dadce0;color:#70757a;font-size:14px;text-align:center;table-layout:fixed;width:100%}.frGj1b{display:block;padding:12px 0 12px 0;width:100%}.BnJWBc{text-align:center;padding:6px 0 13px 0;height:35px}.e3goi{vertical-align:top;padding:0;height:180px}.GpQGbf{margin:auto;border-collapse:collapse;border-spacing:0;width:100%}</style></head><body><style>.X6ZCif{color:#202124;font-size:11px;line-height:16px;display:inline-block;padding-top:2px;overflow:hidden;padding-bottom:4px;width:100%}.TwVfHd{border-radius:16px;border:thin solid #dadce0;display:inline-block;padding:8px 8px;margin-right:8px;margin-bottom:4px}.yekiAe{background-color:#dadce0}.jjVJ4e{width:100%}.ezO2md{border:thin solid #dadce0;padding:12px 16px 12px 16px;margin-bottom:10px;font-family:arial,sans-serif}.lIMUZd{font-family:arial,sans-serif}.RntSmf{border-spacing:0}.lgD2Tc{width:100%}.SpelHe{text-align:center}.SpelHe{position:relative}.deHqpb{bottom:0;left:0;margin:auto;position:absolute;right:0;top:0}.kCmkOe{position:relative}.ID6Z3b{background-image:url(https://www.gstatic.com/search_trustx/visibility_off_icon_p0-7d897bf44bafe5436baa9009e8716337.png);background-repeat:no-repeat;background-position:center;background-size:20px}.kCmkOe{width:162px;height:140px;line-height:140px;overflow:'hidden';text-align:center}.DS1iW{text-align:center;margin:auto;vertical-align:middle;max-width:162px;max-height:140px}.AlD19d{padding-top:2px;padding-bottom:8px;}.fYyStc{word-break:break-word}.ynsChf{display:block;white-space:nowrap;overflow:hidden;text-overflow:ellipsis}.Fj3V3b{color:#1967d2;font-size:14px;line-height:20px}.FrIlee{color:#202124;font-size:11px;line-height:16px}.F9iS2e{color:#70757a;font-size:11px;line-height:16px}.WMQ2Le{color:#70757a;font-size:12px;line-height:16px}.x3G5ab{color:#202124;font-size:12px;line-height:16px}.fuLhoc{color:#1967d2;font-size:16px;line-height:20px}.epoveb{font-size:24px;line-height:28px;font-weight:400;color:#202124}.dXDvrc{color:#0d652d;font-size:14px;line-height:20px;word-wrap:break-word}.dloBPe{font-weight:bold}.YVIcad{color:#70757a}.JkVVdd{color:#ea4335}.oXZRFd{color:#ea4335}.MQHtg{color:#fbbc04}.pyMRrb{color:#1e8e3e}.EtTZid{color:#1e8e3e}.M3vVJe{color:#1967d2}.qXLe6d{display:block}.NHQNef{font-style:italic}.Cb8Z7c{white-space:pre}a.ZWRArf{text-decoration:none}a .CVA68e:hover{text-decoration:underline}</style><div class=\"n692Zd\"><div class=\"BnJWBc\"><a class=\"lXLRf\" href=\"/?sa=X&amp;sca_esv=594761302&amp;rlz=1C1SQJL_enIN1053IN1053&amp;biw=1366&amp;bih=607&amp;output=images&amp;ie=UTF-8&amp;tbm=isch&amp;ved=0ahUKEwigvsvMzruDAxVRS2wGHQ4XDAoQPAgC\"><img alt=\"Google\" class=\"kgJEQe\" src=\"/images/branding/searchlogo/1x/googlelogo_desk_heirloom_color_150x55dp.gif\"/></a></div><div class=\"FbhRzb\"><form action=\"/search\"><input name=\"sca_esv\" type=\"hidden\" value=\"594761302\"/><input name=\"rlz\" type=\"hidden\" value=\"1C1SQJL_enIN1053IN1053\"/><input name=\"biw\" type=\"hidden\" value=\"1366\"/><input name=\"bih\" type=\"hidden\" value=\"607\"/><input name=\"ie\" type=\"hidden\" value=\"ISO-8859-1\"/><input name=\"tbm\" type=\"hidden\" value=\"isch\"/><input name=\"oq\" type=\"hidden\"/><input name=\"aqs\" type=\"hidden\"/><table class=\"cvifge\"><tr><td class=\"O4cRJf\"><input class=\"MhzMZd\" name=\"q\" type=\"text\" value=\"virat kohli\"/></td><td class=\"O1ePr\"><input class=\"xB0fq\" type=\"submit\" value=\"Search\"/></td></tr></table></form></div><div class=\"M7pB2\"><table class=\"euZec\"><tbody><tr><td><a class=\"CsQyDc\" href=\"/search?q=virat+kohli&amp;sca_esv=594761302&amp;rlz=1C1SQJL_enIN1053IN1053&amp;biw=1366&amp;bih=607&amp;ie=UTF-8&amp;source=lnms&amp;sa=X&amp;ved=0ahUKEwigvsvMzruDAxVRS2wGHQ4XDAoQ_AUIBCgA\">ALL</a></td><td><a class=\"CsQyDc\" href=\"/search?q=virat+kohli&amp;sca_esv=594761302&amp;rlz=1C1SQJL_enIN1053IN1053&amp;biw=1366&amp;bih=607&amp;ie=UTF-8&amp;tbm=nws&amp;source=lnms&amp;sa=X&amp;ved=0ahUKEwigvsvMzruDAxVRS2wGHQ4XDAoQ_AUIBSgB\">NEWS</a></td><td class=\"EY24We\"><span class=\"QIqI7\">IMAGES</span></td><td><a class=\"CsQyDc\" href=\"/search?q=virat+kohli&amp;sca_esv=594761302&amp;rlz=1C1SQJL_enIN1053IN1053&amp;biw=1366&amp;bih=607&amp;ie=UTF-8&amp;tbm=vid&amp;source=lnms&amp;sa=X&amp;ved=0ahUKEwigvsvMzruDAxVRS2wGHQ4XDAoQ_AUIBygD\">VIDEOS</a></td></tr></tbody></table></div></div><div class=\"X6ZCif\"><a class=\"TwVfHd\" href=\"/search?sca_esv=594761302&amp;rlz=1C1SQJL_enIN1053IN1053&amp;biw=1366&amp;bih=607&amp;ie=UTF-8&amp;tbm=isch&amp;q=virat+kohli&amp;chips=q:virat+kohli,g_1:wallpaper&amp;sa=X&amp;ved=0ahUKEwigvsvMzruDAxVRS2wGHQ4XDAoQ4lYICygA\">wallpaper</a><a class=\"TwVfHd\" href=\"/search?sca_esv=594761302&amp;rlz=1C1SQJL_enIN1053IN1053&amp;biw=1366&amp;bih=607&amp;ie=UTF-8&amp;tbm=isch&amp;q=virat+kohli&amp;chips=q:virat+kohli,g_1:hairstyle&amp;sa=X&amp;ved=0ahUKEwigvsvMzruDAxVRS2wGHQ4XDAoQ4lYIDCgB\">hairstyle</a><a class=\"TwVfHd\" href=\"/search?sca_esv=594761302&amp;rlz=1C1SQJL_enIN1053IN1053&amp;biw=1366&amp;bih=607&amp;ie=UTF-8&amp;tbm=isch&amp;q=virat+kohli&amp;chips=q:virat+kohli,g_1:style&amp;sa=X&amp;ved=0ahUKEwigvsvMzruDAxVRS2wGHQ4XDAoQ4lYIDSgC\">style</a><a class=\"TwVfHd\" href=\"/search?sca_esv=594761302&amp;rlz=1C1SQJL_enIN1053IN1053&amp;biw=1366&amp;bih=607&amp;ie=UTF-8&amp;tbm=isch&amp;q=virat+kohli&amp;chips=q:virat+kohli,g_1:wedding&amp;sa=X&amp;ved=0ahUKEwigvsvMzruDAxVRS2wGHQ4XDAoQ4lYIDigD\">wedding</a><a class=\"TwVfHd\" href=\"/search?sca_esv=594761302&amp;rlz=1C1SQJL_enIN1053IN1053&amp;biw=1366&amp;bih=607&amp;ie=UTF-8&amp;tbm=isch&amp;q=virat+kohli&amp;chips=q:virat+kohli,g_1:new+look&amp;sa=X&amp;ved=0ahUKEwigvsvMzruDAxVRS2wGHQ4XDAoQ4lYIDygE\">new look</a><a class=\"TwVfHd\" href=\"/search?sca_esv=594761302&amp;rlz=1C1SQJL_enIN1053IN1053&amp;biw=1366&amp;bih=607&amp;ie=UTF-8&amp;tbm=isch&amp;q=virat+kohli&amp;chips=q:virat+kohli,g_1:tattoo&amp;sa=X&amp;ved=0ahUKEwigvsvMzruDAxVRS2wGHQ4XDAoQ4lYIECgF\">tattoo</a><a class=\"TwVfHd\" href=\"/search?sca_esv=594761302&amp;rlz=1C1SQJL_enIN1053IN1053&amp;biw=1366&amp;bih=607&amp;ie=UTF-8&amp;tbm=isch&amp;q=virat+kohli&amp;chips=q:virat+kohli,g_1:captain&amp;sa=X&amp;ved=0ahUKEwigvsvMzruDAxVRS2wGHQ4XDAoQ4lYIESgG\">captain</a><a class=\"TwVfHd\" href=\"/search?sca_esv=594761302&amp;rlz=1C1SQJL_enIN1053IN1053&amp;biw=1366&amp;bih=607&amp;ie=UTF-8&amp;tbm=isch&amp;q=virat+kohli&amp;chips=q:virat+kohli,g_1:century&amp;sa=X&amp;ved=0ahUKEwigvsvMzruDAxVRS2wGHQ4XDAoQ4lYIEigH\">century</a><a class=\"TwVfHd\" href=\"/search?sca_esv=594761302&amp;rlz=1C1SQJL_enIN1053IN1053&amp;biw=1366&amp;bih=607&amp;ie=UTF-8&amp;tbm=isch&amp;q=virat+kohli&amp;chips=q:virat+kohli,g_1:rohit+sharma&amp;sa=X&amp;ved=0ahUKEwigvsvMzruDAxVRS2wGHQ4XDAoQ4lYIEygI\">rohit sharma</a><a class=\"TwVfHd\" href=\"/search?sca_esv=594761302&amp;rlz=1C1SQJL_enIN1053IN1053&amp;biw=1366&amp;bih=607&amp;ie=UTF-8&amp;tbm=isch&amp;q=virat+kohli&amp;chips=q:virat+kohli,g_1:sketch&amp;sa=X&amp;ved=0ahUKEwigvsvMzruDAxVRS2wGHQ4XDAoQ4lYIFCgJ\">sketch</a></div><div><table class=\"GpQGbf\"><tr><td align=\"center\" class=\"e3goi\"><div class=\"jjVJ4e\"> <div> <div class=\"lIMUZd\"><div><table class=\"RntSmf\"><tr><td><a href=\"/url?q=https://en.wikipedia.org/wiki/Virat_Kohli&amp;sa=U&amp;ved=2ahUKEwigvsvMzruDAxVRS2wGHQ4XDAoQqoUBegQIAxAB&amp;usg=AOvVaw3ikVIQKJTSjF9i66EEAqfN\"><div class=\"kCmkOe\"><img alt=\"\" class=\"DS1iW\" src=\"https://encrypted-tbn0.gstatic.com/images?q=tbn:ANd9GcSApOD8cC7Jh33c0VqbcFkcmx0og9wr1DYsD50a8Tp3p-0I33M_SuuLXA0Kizk&amp;s\"/></div></a></td></tr><tr><td><a href=\"/url?q=https://en.wikipedia.org/wiki/Virat_Kohli&amp;sa=U&amp;ved=2ahUKEwigvsvMzruDAxVRS2wGHQ4XDAoQr4kDegQIAxAC&amp;usg=AOvVaw19j__fy4lrtJ0qOOasQimm\"><div class=\"AlD19d\"> <span class=\"qXLe6d x3G5ab\"> <span class=\"fYyStc\">Virat Kohli - Wikipedia</span> </span> <span class=\"qXLe6d F9iS2e\"> <span class=\"fYyStc\">en.wikipedia.org</span> </span> </div></a></td></tr></table></div></div> </div> </div></td><td align=\"center\" class=\"e3goi\"><div class=\"jjVJ4e\"> <div> <div class=\"lIMUZd\"><div><table class=\"RntSmf\"><tr><td><a href=\"/url?q=https://www.britannica.com/biography/Virat-Kohli&amp;sa=U&amp;ved=2ahUKEwigvsvMzruDAxVRS2wGHQ4XDAoQqoUBegQIExAB&amp;usg=AOvVaw1KMc1QHb3GfZGnmJrvKsn7\"><div class=\"kCmkOe\"><img alt=\"\" class=\"DS1iW\" src=\"https://encrypted-tbn0.gstatic.com/images?q=tbn:ANd9GcQq8X0nLNaCzy7-IB3JuFXdBf8TU8Osb9_3kM_zz_nV_7K3F5pk8RPNXJHQB-M&amp;s\"/></div></a></td></tr><tr><td><a href=\"/url?q=https://www.britannica.com/biography/Virat-Kohli&amp;sa=U&amp;ved=2ahUKEwigvsvMzruDAxVRS2wGHQ4XDAoQr4kDegQIExAC&amp;usg=AOvVaw2d9MoNk2lq0XEqu0mGSSSY\"><div class=\"AlD19d\"> <span class=\"qXLe6d x3G5ab\"> <span class=\"fYyStc\">Virat Kohli | Life, Career,...</span> </span> <span class=\"qXLe6d F9iS2e\"> <span class=\"fYyStc\">www.britannica.com</span> </span> </div></a></td></tr></table></div></div> </div> </div></td><td align=\"center\" class=\"e3goi\"><div class=\"jjVJ4e\"> <div> <div class=\"lIMUZd\"><div><table class=\"RntSmf\"><tr><td><a href=\"/url?q=https://www.indiatoday.in/sports/cricket/story/sa-vs-ind-subramaniam-badrinath-india-test-rohit-sharma-captaincy-virat-kohli-2482170-2023-12-30&amp;sa=U&amp;ved=2ahUKEwigvsvMzruDAxVRS2wGHQ4XDAoQqoUBegQIEhAB&amp;usg=AOvVaw3SaVWd6oVptXkLT0xrBDzr\"><div class=\"kCmkOe\"><img alt=\"\" class=\"DS1iW\" src=\"https://encrypted-tbn0.gstatic.com/images?q=tbn:ANd9GcQOwIDVWyTe4lc3jnjDhJT9Jc54WOXt6p0ViHFOgDIGIB76ih-a7xkxFbfc3A&amp;s\"/></div></a></td></tr><tr><td><a href=\"/url?q=https://www.indiatoday.in/sports/cricket/story/sa-vs-ind-subramaniam-badrinath-india-test-rohit-sharma-captaincy-virat-kohli-2482170-2023-12-30&amp;sa=U&amp;ved=2ahUKEwigvsvMzruDAxVRS2wGHQ4XDAoQr4kDegQIEhAC&amp;usg=AOvVaw3yjQ-eDCQisz1VMEpFa6SG\"><div class=\"AlD19d\"> <span class=\"qXLe6d x3G5ab\"> <span class=\"fYyStc\">Virat Kohli has great...</span> </span> <span class=\"qXLe6d F9iS2e\"> <span class=\"fYyStc\">www.indiatoday.in</span> </span> </div></a></td></tr></table></div></div> </div> </div></td><td align=\"center\" class=\"e3goi\"><div class=\"jjVJ4e\"> <div> <div class=\"lIMUZd\"><div><table class=\"RntSmf\"><tr><td><a href=\"/url?q=https://sports.ndtv.com/cricket/why-is-virat-kohli-not-india-captain-ex-csk-stars-strongly-worded-valid-question-4768453&amp;sa=U&amp;ved=2ahUKEwigvsvMzruDAxVRS2wGHQ4XDAoQqoUBegQIDxAB&amp;usg=AOvVaw2tugmaxpzkKwValZ2KmGBv\"><div class=\"kCmkOe\"><img alt=\"\" class=\"DS1iW\" src=\"https://encrypted-tbn0.gstatic.com/images?q=tbn:ANd9GcQ4-vzWy2wP0-zpwPMAQ0JS_Ea7qOhmkaQ2EQzc3KYJ_Rgzev5enkjwAEamcw&amp;s\"/></div></a></td></tr><tr><td><a href=\"/url?q=https://sports.ndtv.com/cricket/why-is-virat-kohli-not-india-captain-ex-csk-stars-strongly-worded-valid-question-4768453&amp;sa=U&amp;ved=2ahUKEwigvsvMzruDAxVRS2wGHQ4XDAoQr4kDegQIDxAC&amp;usg=AOvVaw2eekRMEw6ZUor2Mn1DPWd_\"><div class=\"AlD19d\"> <span class=\"qXLe6d x3G5ab\"> <span class=\"fYyStc\">Why Is Virat Kohli Not...</span> </span> <span class=\"qXLe6d F9iS2e\"> <span class=\"fYyStc\">sports.ndtv.com</span> </span> </div></a></td></tr></table></div></div> </div> </div></td></tr><tr><td align=\"center\" class=\"e3goi\"><div class=\"jjVJ4e\"> <div> <div class=\"lIMUZd\"><div><table class=\"RntSmf\"><tr><td><a href=\"/url?q=https://timesofindia.indiatimes.com/sports/cricket/icc-world-cup/icc-world-cup-photos/world-cup-virat-kohli-leads-india-stat-attack-against-bangladesh/photostory/104569311.cms&amp;sa=U&amp;ved=2ahUKEwigvsvMzruDAxVRS2wGHQ4XDAoQqoUBegQIDhAB&amp;usg=AOvVaw2dOpRxP5UBAZi8PUNixPCs\"><div class=\"kCmkOe\"><img alt=\"\" class=\"DS1iW\" src=\"https://encrypted-tbn0.gstatic.com/images?q=tbn:ANd9GcQF6PktMVrFVp_6P6zkUtp6T-cHwA2NJXpjggYShfiri9EP-GbG8tQBMM4aCWo&amp;s\"/></div></a></td></tr><tr><td><a href=\"/url?q=https://timesofindia.indiatimes.com/sports/cricket/icc-world-cup/icc-world-cup-photos/world-cup-virat-kohli-leads-india-stat-attack-against-bangladesh/photostory/104569311.cms&amp;sa=U&amp;ved=2ahUKEwigvsvMzruDAxVRS2wGHQ4XDAoQr4kDegQIDhAC&amp;usg=AOvVaw1yDb-Ou9tlIqitfWVN3IFl\"><div class=\"AlD19d\"> <span class=\"qXLe6d x3G5ab\"> <span class=\"fYyStc\">World Cup: Virat Kohli...</span> </span> <span class=\"qXLe6d F9iS2e\"> <span class=\"fYyStc\">timesofindia.indiatimes.com...</span> </span> </div></a></td></tr></table></div></div> </div> </div></td><td align=\"center\" class=\"e3goi\"><div class=\"jjVJ4e\"> <div> <div class=\"lIMUZd\"><div><table class=\"RntSmf\"><tr><td><a href=\"/url?q=https://www.hindustantimes.com/cricket/enjoy-from-your-homes-please-virat-kohlis-ticket-disclaimer-as-india-gear-up-for-home-world-cup-101696397688754.html&amp;sa=U&amp;ved=2ahUKEwigvsvMzruDAxVRS2wGHQ4XDAoQqoUBegQIEBAB&amp;usg=AOvVaw3ffg608WHAVng8b4C3uAIZ\"><div class=\"kCmkOe\"><img alt=\"\" class=\"DS1iW\" src=\"https://encrypted-tbn0.gstatic.com/images?q=tbn:ANd9GcQFNDk8omnbNfjxWI0vGNovro_0kW6Q1tFwMyXi1-KOQ5G526Wn0MkTlZ_Q7w&amp;s\"/></div></a></td></tr><tr><td><a href=\"/url?q=https://www.hindustantimes.com/cricket/enjoy-from-your-homes-please-virat-kohlis-ticket-disclaimer-as-india-gear-up-for-home-world-cup-101696397688754.html&amp;sa=U&amp;ved=2ahUKEwigvsvMzruDAxVRS2wGHQ4XDAoQr4kDegQIEBAC&amp;usg=AOvVaw2rfkp-sY3rSc0fGc8tHdj1\"><div class=\"AlD19d\"> <span class=\"qXLe6d x3G5ab\"> <span class=\"fYyStc\">Enjoy from your homes...</span> </span> <span class=\"qXLe6d F9iS2e\"> <span class=\"fYyStc\">www.hindustantimes.com</span> </span> </div></a></td></tr></table></div></div> </div> </div></td><td align=\"center\" class=\"e3goi\"><div class=\"jjVJ4e\"> <div> <div class=\"lIMUZd\"><div><table class=\"RntSmf\"><tr><td><a href=\"/url?q=https://www.poornima.edu.in/cricket/virat-kohli-king-image-2/&amp;sa=U&amp;ved=2ahUKEwigvsvMzruDAxVRS2wGHQ4XDAoQqoUBegQIERAB&amp;usg=AOvVaw2VR41G2BgpCGmQi-Tidp-R\"><div class=\"kCmkOe\"><img alt=\"\" class=\"DS1iW\" src=\"https://encrypted-tbn0.gstatic.com/images?q=tbn:ANd9GcRtgfD3yoglz3OcCP9Slxhoor8fB3AT_v2YyZlH3s8XF0tK0nhMs7huLZrlgnU&amp;s\"/></div></a></td></tr><tr><td><a href=\"/url?q=https://www.poornima.edu.in/cricket/virat-kohli-king-image-2/&amp;sa=U&amp;ved=2ahUKEwigvsvMzruDAxVRS2wGHQ4XDAoQr4kDegQIERAC&amp;usg=AOvVaw07OsPMWrJ3d-TdqX6A5LaL\"><div class=\"AlD19d\"> <span class=\"qXLe6d x3G5ab\"> <span class=\"fYyStc\">Virat Kohli King Image -...</span> </span> <span class=\"qXLe6d F9iS2e\"> <span class=\"fYyStc\">www.poornima.edu.in</span> </span> </div></a></td></tr></table></div></div> </div> </div></td><td align=\"center\" class=\"e3goi\"><div class=\"jjVJ4e\"> <div> <div class=\"lIMUZd\"><div><table class=\"RntSmf\"><tr><td><a href=\"/url?q=https://www.facebook.com/virat.kohli/&amp;sa=U&amp;ved=2ahUKEwigvsvMzruDAxVRS2wGHQ4XDAoQqoUBegQICRAB&amp;usg=AOvVaw0ReQt5AeacuMn5_lLei3w-\"><div class=\"kCmkOe\"><img alt=\"\" class=\"DS1iW\" src=\"https://encrypted-tbn0.gstatic.com/images?q=tbn:ANd9GcRCGEZAzUoACN-_aTzyDwPE03P0gSjTGz1oOnSjNvZ9GvdQaMN5FVMnw8SDAw&amp;s\"/></div></a></td></tr><tr><td><a href=\"/url?q=https://www.facebook.com/virat.kohli/&amp;sa=U&amp;ved=2ahUKEwigvsvMzruDAxVRS2wGHQ4XDAoQr4kDegQICRAC&amp;usg=AOvVaw1rLlA51qit56yZQ4oFWCYt\"><div class=\"AlD19d\"> <span class=\"qXLe6d x3G5ab\"> <span class=\"fYyStc\">Virat Kohli</span> </span> <span class=\"qXLe6d F9iS2e\"> <span class=\"fYyStc\">www.facebook.com</span> </span> </div></a></td></tr></table></div></div> </div> </div></td></tr><tr><td align=\"center\" class=\"e3goi\"><div class=\"jjVJ4e\"> <div> <div class=\"lIMUZd\"><div><table class=\"RntSmf\"><tr><td><a href=\"/url?q=https://economictimes.indiatimes.com/news/sports/when-virat-kohli-battled-depression-his-coach-recalls-the-toughest-phase-of-the-cricketers-career/articleshow/104999679.cms&amp;sa=U&amp;ved=2ahUKEwigvsvMzruDAxVRS2wGHQ4XDAoQqoUBegQICxAB&amp;usg=AOvVaw1bijjBSWpHjQNxdJP-cCk0\"><div class=\"kCmkOe\"><img alt=\"\" class=\"DS1iW\" src=\"https://encrypted-tbn0.gstatic.com/images?q=tbn:ANd9GcSfJCgKATw23OgNQ8LdpiHjSnP3yxiXy6QNW-9TWcAjXjO-6SAk-o4p8is4ZfU&amp;s\"/></div></a></td></tr><tr><td><a href=\"/url?q=https://economictimes.indiatimes.com/news/sports/when-virat-kohli-battled-depression-his-coach-recalls-the-toughest-phase-of-the-cricketers-career/articleshow/104999679.cms&amp;sa=U&amp;ved=2ahUKEwigvsvMzruDAxVRS2wGHQ4XDAoQr4kDegQICxAC&amp;usg=AOvVaw3X65f6L2BVCZvCQFM79lSa\"><div class=\"AlD19d\"> <span class=\"qXLe6d x3G5ab\"> <span class=\"fYyStc\">When Virat Kohli battled...</span> </span> <span class=\"qXLe6d F9iS2e\"> <span class=\"fYyStc\">economictimes.indiatimes.co...</span> </span> </div></a></td></tr></table></div></div> </div> </div></td><td align=\"center\" class=\"e3goi\"><div class=\"jjVJ4e\"> <div> <div class=\"lIMUZd\"><div><table class=\"RntSmf\"><tr><td><a href=\"/url?q=https://www.t20worldcup.com/news/2891279&amp;sa=U&amp;ved=2ahUKEwigvsvMzruDAxVRS2wGHQ4XDAoQqoUBegQIDBAB&amp;usg=AOvVaw2qE6OX-HWlWPB_QspEKpjL\"><div class=\"kCmkOe\"><img alt=\"\" class=\"DS1iW\" src=\"https://encrypted-tbn0.gstatic.com/images?q=tbn:ANd9GcSy4d5Yh1XhlwbvTrr1I05e6nSLS1fAhrbDuJcedq4q7j0W0QYKZrXX6vKQWQ&amp;s\"/></div></a></td></tr><tr><td><a href=\"/url?q=https://www.t20worldcup.com/news/2891279&amp;sa=U&amp;ved=2ahUKEwigvsvMzruDAxVRS2wGHQ4XDAoQr4kDegQIDBAC&amp;usg=AOvVaw2x_oGCh4Do5ZHMJB4EYGQW\"><div class=\"AlD19d\"> <span class=\"qXLe6d x3G5ab\"> <span class=\"fYyStc\">Revealed: Why Ricky Ponting...</span> </span> <span class=\"qXLe6d F9iS2e\"> <span class=\"fYyStc\">www.t20worldcup.com</span> </span> </div></a></td></tr></table></div></div> </div> </div></td><td align=\"center\" class=\"e3goi\"><div class=\"jjVJ4e\"> <div> <div class=\"lIMUZd\"><div><table class=\"RntSmf\"><tr><td><a href=\"/url?q=https://sports.ndtv.com/south-africa-vs-india-2023-24/first-time-in-146-years-virat-kohli-achieves-a-new-high-in-world-cricket-4760329&amp;sa=U&amp;ved=2ahUKEwigvsvMzruDAxVRS2wGHQ4XDAoQqoUBegQIDRAB&amp;usg=AOvVaw3dzLJmsrBojbzpJRQkGymu\"><div class=\"kCmkOe\"><img alt=\"\" class=\"DS1iW\" src=\"https://encrypted-tbn0.gstatic.com/images?q=tbn:ANd9GcQ3NRYNaWgFZucq5PCNjnM8FyfR94CR3o_bY6VVzmw29-ggIhRktNX3DpTZDw&amp;s\"/></div></a></td></tr><tr><td><a href=\"/url?q=https://sports.ndtv.com/south-africa-vs-india-2023-24/first-time-in-146-years-virat-kohli-achieves-a-new-high-in-world-cricket-4760329&amp;sa=U&amp;ved=2ahUKEwigvsvMzruDAxVRS2wGHQ4XDAoQr4kDegQIDRAC&amp;usg=AOvVaw0vQw4Oc-A8aL6ejOKar1Mn\"><div class=\"AlD19d\"> <span class=\"qXLe6d x3G5ab\"> <span class=\"fYyStc\">First Time In 146 Years:...</span> </span> <span class=\"qXLe6d F9iS2e\"> <span class=\"fYyStc\">sports.ndtv.com</span> </span> </div></a></td></tr></table></div></div> </div> </div></td><td align=\"center\" class=\"e3goi\"><div class=\"jjVJ4e\"> <div> <div class=\"lIMUZd\"><div><table class=\"RntSmf\"><tr><td><a href=\"/url?q=https://www.poornima.edu.in/cricket/virat-kohli-international-hundreds-2/&amp;sa=U&amp;ved=2ahUKEwigvsvMzruDAxVRS2wGHQ4XDAoQqoUBegQIChAB&amp;usg=AOvVaw1zX56_50O1QspD2-6LNxn0\"><div class=\"kCmkOe\"><img alt=\"\" class=\"DS1iW\" src=\"https://encrypted-tbn0.gstatic.com/images?q=tbn:ANd9GcRfea8ekC9IQ_W-c9IQD25PLM0eZk10pQzga3N8elSFuBxosNxuOYzNieStCw&amp;s\"/></div></a></td></tr><tr><td><a href=\"/url?q=https://www.poornima.edu.in/cricket/virat-kohli-international-hundreds-2/&amp;sa=U&amp;ved=2ahUKEwigvsvMzruDAxVRS2wGHQ4XDAoQr4kDegQIChAC&amp;usg=AOvVaw23qqtSYO2dBqnX8MxYomh7\"><div class=\"AlD19d\"> <span class=\"qXLe6d x3G5ab\"> <span class=\"fYyStc\">Virat Kohli International...</span> </span> <span class=\"qXLe6d F9iS2e\"> <span class=\"fYyStc\">www.poornima.edu.in</span> </span> </div></a></td></tr></table></div></div> </div> </div></td></tr><tr><td align=\"center\" class=\"e3goi\"><div class=\"jjVJ4e\"> <div> <div class=\"lIMUZd\"><div><table class=\"RntSmf\"><tr><td><a href=\"/url?q=https://www.forbes.com/profile/virat-kohli/&amp;sa=U&amp;ved=2ahUKEwigvsvMzruDAxVRS2wGHQ4XDAoQqoUBegQIBxAB&amp;usg=AOvVaw2BrQtQPNZOKKBJjGY2cTNw\"><div class=\"kCmkOe\"><img alt=\"\" class=\"DS1iW\" src=\"https://encrypted-tbn0.gstatic.com/images?q=tbn:ANd9GcQXhRozPeN_ofFzgMvQcHZvcplv3EpOrLtmrSnBG88kwoJo8RFn0Ev3aLykTYA&amp;s\"/></div></a></td></tr><tr><td><a href=\"/url?q=https://www.forbes.com/profile/virat-kohli/&amp;sa=U&amp;ved=2ahUKEwigvsvMzruDAxVRS2wGHQ4XDAoQr4kDegQIBxAC&amp;usg=AOvVaw1n7x_lORHrgQG9i15R0nrl\"><div class=\"AlD19d\"> <span class=\"qXLe6d x3G5ab\"> <span class=\"fYyStc\">0x0.jpg?format=jpg&amp;crop=233...</span> </span> <span class=\"qXLe6d F9iS2e\"> <span class=\"fYyStc\">www.forbes.com</span> </span> </div></a></td></tr></table></div></div> </div> </div></td><td align=\"center\" class=\"e3goi\"><div class=\"jjVJ4e\"> <div> <div class=\"lIMUZd\"><div><table class=\"RntSmf\"><tr><td><a href=\"/url?q=https://en.wikipedia.org/wiki/Virat_Kohli&amp;sa=U&amp;ved=2ahUKEwigvsvMzruDAxVRS2wGHQ4XDAoQqoUBegQIABAB&amp;usg=AOvVaw2_aWF_Vi2aamK-8RgnDuN3\"><div class=\"kCmkOe\"><img alt=\"\" class=\"DS1iW\" src=\"https://encrypted-tbn0.gstatic.com/images?q=tbn:ANd9GcT_FerRmtbd9mLb7C1BupngfG7MZJ08QJACem9IkjOXMmQ-A34GUobOz4F6Zw&amp;s\"/></div></a></td></tr><tr><td><a href=\"/url?q=https://en.wikipedia.org/wiki/Virat_Kohli&amp;sa=U&amp;ved=2ahUKEwigvsvMzruDAxVRS2wGHQ4XDAoQr4kDegQIABAC&amp;usg=AOvVaw24mnOJv84P4R8JSHcBoPtO\"><div class=\"AlD19d\"> <span class=\"qXLe6d x3G5ab\"> <span class=\"fYyStc\">Virat Kohli - Wikipedia</span> </span> <span class=\"qXLe6d F9iS2e\"> <span class=\"fYyStc\">en.wikipedia.org</span> </span> </div></a></td></tr></table></div></div> </div> </div></td><td align=\"center\" class=\"e3goi\"><div class=\"jjVJ4e\"> <div> <div class=\"lIMUZd\"><div><table class=\"RntSmf\"><tr><td><a href=\"/url?q=https://www.moneycontrol.com/news/trends/sports-trends/virat-kohli-to-play-odis-in-south-africa-says-no-rift-with-rohit-sharma-7828141.html&amp;sa=U&amp;ved=2ahUKEwigvsvMzruDAxVRS2wGHQ4XDAoQqoUBegQIBBAB&amp;usg=AOvVaw2yw6NqhuJJS2nwBezyDxGd\"><div class=\"kCmkOe\"><img alt=\"\" class=\"DS1iW\" src=\"https://encrypted-tbn0.gstatic.com/images?q=tbn:ANd9GcQIfKwJa3UU4LRmp3CikprnQPjf8BvOJD-nSNs5kCZhTCblXTXSevHrWUYuhw&amp;s\"/></div></a></td></tr><tr><td><a href=\"/url?q=https://www.moneycontrol.com/news/trends/sports-trends/virat-kohli-to-play-odis-in-south-africa-says-no-rift-with-rohit-sharma-7828141.html&amp;sa=U&amp;ved=2ahUKEwigvsvMzruDAxVRS2wGHQ4XDAoQr4kDegQIBBAC&amp;usg=AOvVaw1T9xbHwRIZY_WRopIGu9l5\"><div class=\"AlD19d\"> <span class=\"qXLe6d x3G5ab\"> <span class=\"fYyStc\">Virat Kohli to play ODIs in...</span> </span> <span class=\"qXLe6d F9iS2e\"> <span class=\"fYyStc\">www.moneycontrol.com</span> </span> </div></a></td></tr></table></div></div> </div> </div></td><td align=\"center\" class=\"e3goi\"><div class=\"jjVJ4e\"> <div> <div class=\"lIMUZd\"><div><table class=\"RntSmf\"><tr><td><a href=\"/url?q=https://www.zeebiz.com/trending/sports/photo-gallery-virat-kohli-birthday-2022-5-lesser-known-facts-about-king-kohli-photos-206323&amp;sa=U&amp;ved=2ahUKEwigvsvMzruDAxVRS2wGHQ4XDAoQqoUBegQIBhAB&amp;usg=AOvVaw2tq0-LEe1CG_IMiCWPoLSc\"><div class=\"kCmkOe\"><img alt=\"\" class=\"DS1iW\" src=\"https://encrypted-tbn0.gstatic.com/images?q=tbn:ANd9GcRr7DiDiKNBWtq-R4WOEjmMr6hDMxYEclwem2ul1MTIz8bPWkpPIZYSGnla1Qg&amp;s\"/></div></a></td></tr><tr><td><a href=\"/url?q=https://www.zeebiz.com/trending/sports/photo-gallery-virat-kohli-birthday-2022-5-lesser-known-facts-about-king-kohli-photos-206323&amp;sa=U&amp;ved=2ahUKEwigvsvMzruDAxVRS2wGHQ4XDAoQr4kDegQIBhAC&amp;usg=AOvVaw0O-fd3ymHkrtQtZsQobjH6\"><div class=\"AlD19d\"> <span class=\"qXLe6d x3G5ab\"> <span class=\"fYyStc\">Virat Kohli Birthday 2022:...</span> </span> <span class=\"qXLe6d F9iS2e\"> <span class=\"fYyStc\">www.zeebiz.com</span> </span> </div></a></td></tr></table></div></div> </div> </div></td></tr><tr><td align=\"center\" class=\"e3goi\"><div class=\"jjVJ4e\"> <div> <div class=\"lIMUZd\"><div><table class=\"RntSmf\"><tr><td><a href=\"/url?q=https://sports.ndtv.com/cricket/players/967-virat-kohli-playerprofile&amp;sa=U&amp;ved=2ahUKEwigvsvMzruDAxVRS2wGHQ4XDAoQqoUBegQIARAB&amp;usg=AOvVaw3lk2DgRsZnjeWGtuilSlkp\"><div class=\"kCmkOe\"><img alt=\"\" class=\"DS1iW\" src=\"https://encrypted-tbn0.gstatic.com/images?q=tbn:ANd9GcS3R1aGEGS7JDq5Bx1f4txDZr6LmVWA98e_JEj34pk6B2OJXijenZeG_DdK&amp;s\"/></div></a></td></tr><tr><td><a href=\"/url?q=https://sports.ndtv.com/cricket/players/967-virat-kohli-playerprofile&amp;sa=U&amp;ved=2ahUKEwigvsvMzruDAxVRS2wGHQ4XDAoQr4kDegQIARAC&amp;usg=AOvVaw22k5Ew_CXp63hnIu3be6wc\"><div class=\"AlD19d\"> <span class=\"qXLe6d x3G5ab\"> <span class=\"fYyStc\">Virat Kohli Profile -...</span> </span> <span class=\"qXLe6d F9iS2e\"> <span class=\"fYyStc\">sports.ndtv.com</span> </span> </div></a></td></tr></table></div></div> </div> </div></td><td align=\"center\" class=\"e3goi\"><div class=\"jjVJ4e\"> <div> <div class=\"lIMUZd\"><div><table class=\"RntSmf\"><tr><td><a href=\"/url?q=https://www.livemint.com/sports/cricket-news/virat-kohli-likely-to-be-excluded-from-t20-world-cup-squad-as-bcci-look-at-this-player-on-no-3-report-11701951773182.html&amp;sa=U&amp;ved=2ahUKEwigvsvMzruDAxVRS2wGHQ4XDAoQqoUBegQIAhAB&amp;usg=AOvVaw2xO3heLV2rAWuNYMbk1QF0\"><div class=\"kCmkOe\"><img alt=\"\" class=\"DS1iW\" src=\"https://encrypted-tbn0.gstatic.com/images?q=tbn:ANd9GcQKZlXLDu61u9ey6WylU8PhGIXLLBn6o8JtvZ0vpR0vQQqLlMSANIl1KpU-kw&amp;s\"/></div></a></td></tr><tr><td><a href=\"/url?q=https://www.livemint.com/sports/cricket-news/virat-kohli-likely-to-be-excluded-from-t20-world-cup-squad-as-bcci-look-at-this-player-on-no-3-report-11701951773182.html&amp;sa=U&amp;ved=2ahUKEwigvsvMzruDAxVRS2wGHQ4XDAoQr4kDegQIAhAC&amp;usg=AOvVaw3Y8IwHibluWcdYpeEiz3Fy\"><div class=\"AlD19d\"> <span class=\"qXLe6d x3G5ab\"> <span class=\"fYyStc\">Virat Kohli likely to be...</span> </span> <span class=\"qXLe6d F9iS2e\"> <span class=\"fYyStc\">www.livemint.com</span> </span> </div></a></td></tr></table></div></div> </div> </div></td><td align=\"center\" class=\"e3goi\"><div class=\"jjVJ4e\"> <div> <div class=\"lIMUZd\"><div><table class=\"RntSmf\"><tr><td><a href=\"/url?q=https://www.timesnownews.com/web-stories/sports/virat-kohli-10-suryakumar-yadav-2-rating-indian-players-odi-performance-in-2023/photostory/106413213.cms&amp;sa=U&amp;ved=2ahUKEwigvsvMzruDAxVRS2wGHQ4XDAoQqoUBegQICBAB&amp;usg=AOvVaw3TByqnnknAcjPpcIr0aGsi\"><div class=\"kCmkOe\"><img alt=\"\" class=\"DS1iW\" src=\"https://encrypted-tbn0.gstatic.com/images?q=tbn:ANd9GcRMGC0AKiXWQWjmDUuCOLak_MAuE-S7rH3VIskzz0qB63AUz3pE6f6temxzLA&amp;s\"/></div></a></td></tr><tr><td><a href=\"/url?q=https://www.timesnownews.com/web-stories/sports/virat-kohli-10-suryakumar-yadav-2-rating-indian-players-odi-performance-in-2023/photostory/106413213.cms&amp;sa=U&amp;ved=2ahUKEwigvsvMzruDAxVRS2wGHQ4XDAoQr4kDegQICBAC&amp;usg=AOvVaw2q6t5b7ICW5yK12IHT-h9u\"><div class=\"AlD19d\"> <span class=\"qXLe6d x3G5ab\"> <span class=\"fYyStc\">Virat Kohli -10, Suryakumar...</span> </span> <span class=\"qXLe6d F9iS2e\"> <span class=\"fYyStc\">www.timesnownews.com</span> </span> </div></a></td></tr></table></div></div> </div> </div></td><td align=\"center\" class=\"e3goi\"><div class=\"jjVJ4e\"> <div> <div class=\"lIMUZd\"><div><table class=\"RntSmf\"><tr><td><a href=\"/url?q=https://www.iplt20.com/teams/royal-challengers-bangalore/squad-details/164&amp;sa=U&amp;ved=2ahUKEwigvsvMzruDAxVRS2wGHQ4XDAoQqoUBegQIBRAB&amp;usg=AOvVaw0P8v2HC6b8Pe2ei28N4_2e\"><div class=\"kCmkOe\"><img alt=\"\" class=\"DS1iW\" src=\"https://encrypted-tbn0.gstatic.com/images?q=tbn:ANd9GcQjN3o1k7S3Qtlo6YyMkXLv6D4wZ-_tWt2keLcq-w8IlpSsMHVZCa3elriucYE&amp;s\"/></div></a></td></tr><tr><td><a href=\"/url?q=https://www.iplt20.com/teams/royal-challengers-bangalore/squad-details/164&amp;sa=U&amp;ved=2ahUKEwigvsvMzruDAxVRS2wGHQ4XDAoQr4kDegQIBRAC&amp;usg=AOvVaw1H2ha4GguicrHGM3xz0YgX\"><div class=\"AlD19d\"> <span class=\"qXLe6d x3G5ab\"> <span class=\"fYyStc\">Mens Team | IPLT20</span> </span> <span class=\"qXLe6d F9iS2e\"> <span class=\"fYyStc\">www.iplt20.com</span> </span> </div></a></td></tr></table></div></div> </div> </div></td></tr></table></div><table class=\"uZgmoc\"><tbody><td><a class=\"frGj1b\" href=\"/search?q=virat+kohli&amp;sca_esv=594761302&amp;rlz=1C1SQJL_enIN1053IN1053&amp;biw=1366&amp;bih=607&amp;ie=UTF-8&amp;tbm=isch&amp;ei=omKSZaDlOdGWseMPjq6wUA&amp;start=20&amp;sa=N\">Next &gt;</a></td></tbody></table><br/><div class=\"TuS8Ad\" data-ved=\"0ahUKEwigvsvMzruDAxVRS2wGHQ4XDAoQpyoIUg\"><style>.VYM29{font-weight:bold}</style><div align=\"center\" class=\"HddGcc\"><span class=\"VYM29\">Kolkata, West Bengal</span><span> - </span><span>From your IP address</span><span> - </span><a href=\"/url?q=https://support.google.com/websearch%3Fp%3Dws_settings_location%26hl%3Den-IN&amp;opi=89978449&amp;sa=U&amp;ved=0ahUKEwigvsvMzruDAxVRS2wGHQ4XDAoQty4IUw&amp;usg=AOvVaw20E1P0-QPp-kxSv3UOmFdV\">Learn more</a></div><div align=\"center\"><a class=\"rEM8G\" href=\"/url?q=https://accounts.google.com/ServiceLogin%3Fcontinue%3Dhttps://www.google.com/search%253Fq%253Dvirat%252Bkohli%2526sca_esv%253D594761302%2526rlz%253D1C1SQJL_enIN1053IN1053%2526tbm%253Disch%2526sxsrf%253DAM9HkKmAZA4WtMtJD2mPfKs9AGmscuTURA:1704037884013%2526source%253Dlnms%2526sa%253DX%2526sqi%253D2%2526ved%253D2ahUKEwi1lIrmg7qDAxVqSGwGHaVWA9gQ_AUoAnoECAEQBA%2526biw%253D1366%2526bih%253D607%2526dpr%253D1%26hl%3Den&amp;opi=89978449&amp;sa=U&amp;ved=0ahUKEwigvsvMzruDAxVRS2wGHQ4XDAoQxs8CCFQ&amp;usg=AOvVaw1_jN70EH0Hqwn1-RRkbQxD\">Sign in</a></div><div><table class=\"bookcf\"><tbody class=\"InWNIe\"><tr><td><a class=\"rEM8G\" href=\"https://www.google.com/preferences?hl=en&amp;sa=X&amp;ved=0ahUKEwigvsvMzruDAxVRS2wGHQ4XDAoQv5YECFU\">Settings</a></td><td><a class=\"rEM8G\" href=\"https://www.google.com/intl/en_in/policies/privacy/\">Privacy</a></td><td><a class=\"rEM8G\" href=\"https://www.google.com/intl/en_in/policies/terms/\">Terms</a></td></tr></tbody></table></div></div><div> </div></body></html>"
      ]
     },
     "execution_count": 7,
     "metadata": {},
     "output_type": "execute_result"
    }
   ],
   "source": [
    "soup"
   ]
  },
  {
   "cell_type": "markdown",
   "id": "7d9078a1",
   "metadata": {},
   "source": [
    "#### extracting the image tag to retrieve the images"
   ]
  },
  {
   "cell_type": "code",
   "execution_count": 8,
   "id": "1db60212",
   "metadata": {},
   "outputs": [],
   "source": [
    "img_tags=soup.find_all(\"img\")"
   ]
  },
  {
   "cell_type": "code",
   "execution_count": 17,
   "id": "e29ed546",
   "metadata": {},
   "outputs": [
    {
     "data": {
      "text/plain": [
       "[<img alt=\"\" class=\"DS1iW\" src=\"https://encrypted-tbn0.gstatic.com/images?q=tbn:ANd9GcSApOD8cC7Jh33c0VqbcFkcmx0og9wr1DYsD50a8Tp3p-0I33M_SuuLXA0Kizk&amp;s\"/>,\n",
       " <img alt=\"\" class=\"DS1iW\" src=\"https://encrypted-tbn0.gstatic.com/images?q=tbn:ANd9GcQq8X0nLNaCzy7-IB3JuFXdBf8TU8Osb9_3kM_zz_nV_7K3F5pk8RPNXJHQB-M&amp;s\"/>,\n",
       " <img alt=\"\" class=\"DS1iW\" src=\"https://encrypted-tbn0.gstatic.com/images?q=tbn:ANd9GcQOwIDVWyTe4lc3jnjDhJT9Jc54WOXt6p0ViHFOgDIGIB76ih-a7xkxFbfc3A&amp;s\"/>,\n",
       " <img alt=\"\" class=\"DS1iW\" src=\"https://encrypted-tbn0.gstatic.com/images?q=tbn:ANd9GcQ4-vzWy2wP0-zpwPMAQ0JS_Ea7qOhmkaQ2EQzc3KYJ_Rgzev5enkjwAEamcw&amp;s\"/>,\n",
       " <img alt=\"\" class=\"DS1iW\" src=\"https://encrypted-tbn0.gstatic.com/images?q=tbn:ANd9GcQF6PktMVrFVp_6P6zkUtp6T-cHwA2NJXpjggYShfiri9EP-GbG8tQBMM4aCWo&amp;s\"/>,\n",
       " <img alt=\"\" class=\"DS1iW\" src=\"https://encrypted-tbn0.gstatic.com/images?q=tbn:ANd9GcQFNDk8omnbNfjxWI0vGNovro_0kW6Q1tFwMyXi1-KOQ5G526Wn0MkTlZ_Q7w&amp;s\"/>,\n",
       " <img alt=\"\" class=\"DS1iW\" src=\"https://encrypted-tbn0.gstatic.com/images?q=tbn:ANd9GcRtgfD3yoglz3OcCP9Slxhoor8fB3AT_v2YyZlH3s8XF0tK0nhMs7huLZrlgnU&amp;s\"/>,\n",
       " <img alt=\"\" class=\"DS1iW\" src=\"https://encrypted-tbn0.gstatic.com/images?q=tbn:ANd9GcRCGEZAzUoACN-_aTzyDwPE03P0gSjTGz1oOnSjNvZ9GvdQaMN5FVMnw8SDAw&amp;s\"/>,\n",
       " <img alt=\"\" class=\"DS1iW\" src=\"https://encrypted-tbn0.gstatic.com/images?q=tbn:ANd9GcSfJCgKATw23OgNQ8LdpiHjSnP3yxiXy6QNW-9TWcAjXjO-6SAk-o4p8is4ZfU&amp;s\"/>,\n",
       " <img alt=\"\" class=\"DS1iW\" src=\"https://encrypted-tbn0.gstatic.com/images?q=tbn:ANd9GcSy4d5Yh1XhlwbvTrr1I05e6nSLS1fAhrbDuJcedq4q7j0W0QYKZrXX6vKQWQ&amp;s\"/>,\n",
       " <img alt=\"\" class=\"DS1iW\" src=\"https://encrypted-tbn0.gstatic.com/images?q=tbn:ANd9GcQ3NRYNaWgFZucq5PCNjnM8FyfR94CR3o_bY6VVzmw29-ggIhRktNX3DpTZDw&amp;s\"/>,\n",
       " <img alt=\"\" class=\"DS1iW\" src=\"https://encrypted-tbn0.gstatic.com/images?q=tbn:ANd9GcRfea8ekC9IQ_W-c9IQD25PLM0eZk10pQzga3N8elSFuBxosNxuOYzNieStCw&amp;s\"/>,\n",
       " <img alt=\"\" class=\"DS1iW\" src=\"https://encrypted-tbn0.gstatic.com/images?q=tbn:ANd9GcQXhRozPeN_ofFzgMvQcHZvcplv3EpOrLtmrSnBG88kwoJo8RFn0Ev3aLykTYA&amp;s\"/>,\n",
       " <img alt=\"\" class=\"DS1iW\" src=\"https://encrypted-tbn0.gstatic.com/images?q=tbn:ANd9GcT_FerRmtbd9mLb7C1BupngfG7MZJ08QJACem9IkjOXMmQ-A34GUobOz4F6Zw&amp;s\"/>,\n",
       " <img alt=\"\" class=\"DS1iW\" src=\"https://encrypted-tbn0.gstatic.com/images?q=tbn:ANd9GcQIfKwJa3UU4LRmp3CikprnQPjf8BvOJD-nSNs5kCZhTCblXTXSevHrWUYuhw&amp;s\"/>,\n",
       " <img alt=\"\" class=\"DS1iW\" src=\"https://encrypted-tbn0.gstatic.com/images?q=tbn:ANd9GcRr7DiDiKNBWtq-R4WOEjmMr6hDMxYEclwem2ul1MTIz8bPWkpPIZYSGnla1Qg&amp;s\"/>,\n",
       " <img alt=\"\" class=\"DS1iW\" src=\"https://encrypted-tbn0.gstatic.com/images?q=tbn:ANd9GcS3R1aGEGS7JDq5Bx1f4txDZr6LmVWA98e_JEj34pk6B2OJXijenZeG_DdK&amp;s\"/>,\n",
       " <img alt=\"\" class=\"DS1iW\" src=\"https://encrypted-tbn0.gstatic.com/images?q=tbn:ANd9GcQKZlXLDu61u9ey6WylU8PhGIXLLBn6o8JtvZ0vpR0vQQqLlMSANIl1KpU-kw&amp;s\"/>,\n",
       " <img alt=\"\" class=\"DS1iW\" src=\"https://encrypted-tbn0.gstatic.com/images?q=tbn:ANd9GcRMGC0AKiXWQWjmDUuCOLak_MAuE-S7rH3VIskzz0qB63AUz3pE6f6temxzLA&amp;s\"/>,\n",
       " <img alt=\"\" class=\"DS1iW\" src=\"https://encrypted-tbn0.gstatic.com/images?q=tbn:ANd9GcQjN3o1k7S3Qtlo6YyMkXLv6D4wZ-_tWt2keLcq-w8IlpSsMHVZCa3elriucYE&amp;s\"/>]"
      ]
     },
     "execution_count": 17,
     "metadata": {},
     "output_type": "execute_result"
    }
   ],
   "source": [
    "img_tags"
   ]
  },
  {
   "cell_type": "code",
   "execution_count": 10,
   "id": "5a0173a6",
   "metadata": {},
   "outputs": [
    {
     "data": {
      "text/plain": [
       "21"
      ]
     },
     "execution_count": 10,
     "metadata": {},
     "output_type": "execute_result"
    }
   ],
   "source": [
    "len(img_tags)"
   ]
  },
  {
   "cell_type": "markdown",
   "id": "8bc28e78",
   "metadata": {},
   "source": [
    "#### len 21 as it is also taking the index navigation at the top --> that need to be deleted"
   ]
  },
  {
   "cell_type": "code",
   "execution_count": 11,
   "id": "86eaa807",
   "metadata": {},
   "outputs": [],
   "source": [
    "del img_tags[0]"
   ]
  },
  {
   "cell_type": "code",
   "execution_count": 19,
   "id": "e0a0c317",
   "metadata": {},
   "outputs": [
    {
     "data": {
      "text/plain": [
       "20"
      ]
     },
     "execution_count": 19,
     "metadata": {},
     "output_type": "execute_result"
    }
   ],
   "source": [
    "len(img_tags)"
   ]
  },
  {
   "cell_type": "code",
   "execution_count": 21,
   "id": "f1b3d368",
   "metadata": {},
   "outputs": [],
   "source": [
    "import os\n",
    "import requests\n",
    "\n",
    "img_data_mongo = []\n",
    "\n",
    "for i in img_tags:\n",
    "    img_url = i['src']\n",
    "    img_data = requests.get(img_url).content\n",
    "    mydict = {\"index\": img_url, \"image\": img_data}\n",
    "    img_data_mongo.append(mydict)\n",
    "\n",
    "    with open(os.path.join(save_dir, f\"{query}_{img_tags.index(i)}.jpg\"), \"wb\") as f:\n",
    "        f.write(img_data)"
   ]
  },
  {
   "cell_type": "markdown",
   "id": "ed9129c6",
   "metadata": {},
   "source": [
    "### now to get user input query and to deploy it we use flask"
   ]
  },
  {
   "cell_type": "code",
   "execution_count": null,
   "id": "a3f06a35",
   "metadata": {},
   "outputs": [],
   "source": []
  }
 ],
 "metadata": {
  "kernelspec": {
   "display_name": "Python 3",
   "language": "python",
   "name": "python3"
  },
  "language_info": {
   "codemirror_mode": {
    "name": "ipython",
    "version": 3
   },
   "file_extension": ".py",
   "mimetype": "text/x-python",
   "name": "python",
   "nbconvert_exporter": "python",
   "pygments_lexer": "ipython3",
   "version": "3.8.8"
  }
 },
 "nbformat": 4,
 "nbformat_minor": 5
}
